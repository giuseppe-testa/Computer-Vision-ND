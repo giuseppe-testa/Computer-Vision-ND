{
 "cells": [
  {
   "cell_type": "markdown",
   "metadata": {},
   "source": [
    "# Color Threshold, Blue Screen"
   ]
  },
  {
   "cell_type": "markdown",
   "metadata": {},
   "source": [
    "### Import resources"
   ]
  },
  {
   "cell_type": "code",
   "execution_count": 3,
   "metadata": {},
   "outputs": [],
   "source": [
    "import matplotlib.pyplot as plt\n",
    "import numpy as np\n",
    "import cv2\n",
    "\n",
    "%matplotlib inline"
   ]
  },
  {
   "cell_type": "markdown",
   "metadata": {},
   "source": [
    "### Read in and display the image"
   ]
  },
  {
   "cell_type": "code",
   "execution_count": null,
   "metadata": {
    "scrolled": true
   },
   "outputs": [],
   "source": [
    "# Read in the image\n",
    "image = cv2.imread('images/pizza_bluescreen.jpg')\n",
    "\n",
    "# Print out the type of image data and its dimensions (height, width, and color)\n",
    "print('This image is:', type(image), \n",
    "      ' with dimensions:', image.shape)\n"
   ]
  },
  {
   "cell_type": "code",
   "execution_count": null,
   "metadata": {},
   "outputs": [],
   "source": [
    "# Display the image\n",
    "plt.imshow(image)"
   ]
  },
  {
   "cell_type": "code",
   "execution_count": null,
   "metadata": {},
   "outputs": [],
   "source": [
    "# find frequency of pixels in range 0-255 \n",
    "histr = cv2.calcHist([image],[0],None,[256],[0,256]) \n",
    "  \n",
    "# show the plotting graph of an image \n",
    "plt.plot(histr) \n",
    "plt.show() "
   ]
  },
  {
   "cell_type": "code",
   "execution_count": null,
   "metadata": {},
   "outputs": [],
   "source": [
    "# alternative way to find histogram of an image \n",
    "plt.hist(image.ravel(),256,[0,256]) \n",
    "plt.show() "
   ]
  },
  {
   "cell_type": "code",
   "execution_count": null,
   "metadata": {},
   "outputs": [],
   "source": [
    "# Make a copy of the image\n",
    "image_copy = np.copy(image)\n",
    "\n",
    "# Change color to RGB (from BGR)\n",
    "image_copy = cv2.cvtColor(image_copy, cv2.COLOR_BGR2RGB)\n",
    "\n",
    "# Display the image copy\n",
    "plt.imshow(image_copy)\n"
   ]
  },
  {
   "cell_type": "markdown",
   "metadata": {},
   "source": [
    "### Changing Colorspaces\n",
    "\n",
    "https://opencv-python-tutroals.readthedocs.io/en/latest/py_tutorials/py_imgproc/py_colorspaces/py_colorspaces.html"
   ]
  },
  {
   "cell_type": "markdown",
   "metadata": {},
   "source": [
    "In this tutorial, you will learn how to convert images from one color-space to another, like BGR \\leftrightarrow Gray, BGR \\leftrightarrow HSV etc.\n",
    "In addition to that, we will create an application which extracts a colored object in a video\n",
    "You will learn following functions : cv2.cvtColor(), cv2.inRange() etc.\n",
    "Changing Color-space\n",
    "There are more than 150 color-space conversion methods available in OpenCV. But we will look into only two which are most widely used ones, BGR \\leftrightarrow Gray and BGR \\leftrightarrow HSV.\n",
    "\n",
    "For color conversion, we use the function cv2.cvtColor(input_image, flag) where flag determines the type of conversion.\n",
    "\n",
    "For BGR \\rightarrow Gray conversion we use the flags cv2.COLOR_BGR2GRAY. Similarly for BGR \\rightarrow HSV, we use the flag cv2.COLOR_BGR2HSV. To get other flags, just run following commands in your Python terminal :"
   ]
  },
  {
   "cell_type": "code",
   "execution_count": 6,
   "metadata": {},
   "outputs": [
    {
     "data": {
      "text/plain": [
       "['COLOR_BAYER_BG2BGR',\n",
       " 'COLOR_BAYER_BG2BGRA',\n",
       " 'COLOR_BAYER_BG2BGR_EA',\n",
       " 'COLOR_BAYER_BG2BGR_VNG',\n",
       " 'COLOR_BAYER_BG2GRAY',\n",
       " 'COLOR_BAYER_BG2RGB',\n",
       " 'COLOR_BAYER_BG2RGBA',\n",
       " 'COLOR_BAYER_BG2RGB_EA',\n",
       " 'COLOR_BAYER_BG2RGB_VNG',\n",
       " 'COLOR_BAYER_GB2BGR',\n",
       " 'COLOR_BAYER_GB2BGRA',\n",
       " 'COLOR_BAYER_GB2BGR_EA',\n",
       " 'COLOR_BAYER_GB2BGR_VNG',\n",
       " 'COLOR_BAYER_GB2GRAY',\n",
       " 'COLOR_BAYER_GB2RGB',\n",
       " 'COLOR_BAYER_GB2RGBA',\n",
       " 'COLOR_BAYER_GB2RGB_EA',\n",
       " 'COLOR_BAYER_GB2RGB_VNG',\n",
       " 'COLOR_BAYER_GR2BGR',\n",
       " 'COLOR_BAYER_GR2BGRA',\n",
       " 'COLOR_BAYER_GR2BGR_EA',\n",
       " 'COLOR_BAYER_GR2BGR_VNG',\n",
       " 'COLOR_BAYER_GR2GRAY',\n",
       " 'COLOR_BAYER_GR2RGB',\n",
       " 'COLOR_BAYER_GR2RGBA',\n",
       " 'COLOR_BAYER_GR2RGB_EA',\n",
       " 'COLOR_BAYER_GR2RGB_VNG',\n",
       " 'COLOR_BAYER_RG2BGR',\n",
       " 'COLOR_BAYER_RG2BGRA',\n",
       " 'COLOR_BAYER_RG2BGR_EA',\n",
       " 'COLOR_BAYER_RG2BGR_VNG',\n",
       " 'COLOR_BAYER_RG2GRAY',\n",
       " 'COLOR_BAYER_RG2RGB',\n",
       " 'COLOR_BAYER_RG2RGBA',\n",
       " 'COLOR_BAYER_RG2RGB_EA',\n",
       " 'COLOR_BAYER_RG2RGB_VNG',\n",
       " 'COLOR_BGR2BGR555',\n",
       " 'COLOR_BGR2BGR565',\n",
       " 'COLOR_BGR2BGRA',\n",
       " 'COLOR_BGR2GRAY',\n",
       " 'COLOR_BGR2HLS',\n",
       " 'COLOR_BGR2HLS_FULL',\n",
       " 'COLOR_BGR2HSV',\n",
       " 'COLOR_BGR2HSV_FULL',\n",
       " 'COLOR_BGR2LAB',\n",
       " 'COLOR_BGR2LUV',\n",
       " 'COLOR_BGR2Lab',\n",
       " 'COLOR_BGR2Luv',\n",
       " 'COLOR_BGR2RGB',\n",
       " 'COLOR_BGR2RGBA',\n",
       " 'COLOR_BGR2XYZ',\n",
       " 'COLOR_BGR2YCR_CB',\n",
       " 'COLOR_BGR2YCrCb',\n",
       " 'COLOR_BGR2YUV',\n",
       " 'COLOR_BGR2YUV_I420',\n",
       " 'COLOR_BGR2YUV_IYUV',\n",
       " 'COLOR_BGR2YUV_YV12',\n",
       " 'COLOR_BGR5552BGR',\n",
       " 'COLOR_BGR5552BGRA',\n",
       " 'COLOR_BGR5552GRAY',\n",
       " 'COLOR_BGR5552RGB',\n",
       " 'COLOR_BGR5552RGBA',\n",
       " 'COLOR_BGR5652BGR',\n",
       " 'COLOR_BGR5652BGRA',\n",
       " 'COLOR_BGR5652GRAY',\n",
       " 'COLOR_BGR5652RGB',\n",
       " 'COLOR_BGR5652RGBA',\n",
       " 'COLOR_BGRA2BGR',\n",
       " 'COLOR_BGRA2BGR555',\n",
       " 'COLOR_BGRA2BGR565',\n",
       " 'COLOR_BGRA2GRAY',\n",
       " 'COLOR_BGRA2RGB',\n",
       " 'COLOR_BGRA2RGBA',\n",
       " 'COLOR_BGRA2YUV_I420',\n",
       " 'COLOR_BGRA2YUV_IYUV',\n",
       " 'COLOR_BGRA2YUV_YV12',\n",
       " 'COLOR_BayerBG2BGR',\n",
       " 'COLOR_BayerBG2BGRA',\n",
       " 'COLOR_BayerBG2BGR_EA',\n",
       " 'COLOR_BayerBG2BGR_VNG',\n",
       " 'COLOR_BayerBG2GRAY',\n",
       " 'COLOR_BayerBG2RGB',\n",
       " 'COLOR_BayerBG2RGBA',\n",
       " 'COLOR_BayerBG2RGB_EA',\n",
       " 'COLOR_BayerBG2RGB_VNG',\n",
       " 'COLOR_BayerGB2BGR',\n",
       " 'COLOR_BayerGB2BGRA',\n",
       " 'COLOR_BayerGB2BGR_EA',\n",
       " 'COLOR_BayerGB2BGR_VNG',\n",
       " 'COLOR_BayerGB2GRAY',\n",
       " 'COLOR_BayerGB2RGB',\n",
       " 'COLOR_BayerGB2RGBA',\n",
       " 'COLOR_BayerGB2RGB_EA',\n",
       " 'COLOR_BayerGB2RGB_VNG',\n",
       " 'COLOR_BayerGR2BGR',\n",
       " 'COLOR_BayerGR2BGRA',\n",
       " 'COLOR_BayerGR2BGR_EA',\n",
       " 'COLOR_BayerGR2BGR_VNG',\n",
       " 'COLOR_BayerGR2GRAY',\n",
       " 'COLOR_BayerGR2RGB',\n",
       " 'COLOR_BayerGR2RGBA',\n",
       " 'COLOR_BayerGR2RGB_EA',\n",
       " 'COLOR_BayerGR2RGB_VNG',\n",
       " 'COLOR_BayerRG2BGR',\n",
       " 'COLOR_BayerRG2BGRA',\n",
       " 'COLOR_BayerRG2BGR_EA',\n",
       " 'COLOR_BayerRG2BGR_VNG',\n",
       " 'COLOR_BayerRG2GRAY',\n",
       " 'COLOR_BayerRG2RGB',\n",
       " 'COLOR_BayerRG2RGBA',\n",
       " 'COLOR_BayerRG2RGB_EA',\n",
       " 'COLOR_BayerRG2RGB_VNG',\n",
       " 'COLOR_COLORCVT_MAX',\n",
       " 'COLOR_GRAY2BGR',\n",
       " 'COLOR_GRAY2BGR555',\n",
       " 'COLOR_GRAY2BGR565',\n",
       " 'COLOR_GRAY2BGRA',\n",
       " 'COLOR_GRAY2RGB',\n",
       " 'COLOR_GRAY2RGBA',\n",
       " 'COLOR_HLS2BGR',\n",
       " 'COLOR_HLS2BGR_FULL',\n",
       " 'COLOR_HLS2RGB',\n",
       " 'COLOR_HLS2RGB_FULL',\n",
       " 'COLOR_HSV2BGR',\n",
       " 'COLOR_HSV2BGR_FULL',\n",
       " 'COLOR_HSV2RGB',\n",
       " 'COLOR_HSV2RGB_FULL',\n",
       " 'COLOR_LAB2BGR',\n",
       " 'COLOR_LAB2LBGR',\n",
       " 'COLOR_LAB2LRGB',\n",
       " 'COLOR_LAB2RGB',\n",
       " 'COLOR_LBGR2LAB',\n",
       " 'COLOR_LBGR2LUV',\n",
       " 'COLOR_LBGR2Lab',\n",
       " 'COLOR_LBGR2Luv',\n",
       " 'COLOR_LRGB2LAB',\n",
       " 'COLOR_LRGB2LUV',\n",
       " 'COLOR_LRGB2Lab',\n",
       " 'COLOR_LRGB2Luv',\n",
       " 'COLOR_LUV2BGR',\n",
       " 'COLOR_LUV2LBGR',\n",
       " 'COLOR_LUV2LRGB',\n",
       " 'COLOR_LUV2RGB',\n",
       " 'COLOR_Lab2BGR',\n",
       " 'COLOR_Lab2LBGR',\n",
       " 'COLOR_Lab2LRGB',\n",
       " 'COLOR_Lab2RGB',\n",
       " 'COLOR_Luv2BGR',\n",
       " 'COLOR_Luv2LBGR',\n",
       " 'COLOR_Luv2LRGB',\n",
       " 'COLOR_Luv2RGB',\n",
       " 'COLOR_M_RGBA2RGBA',\n",
       " 'COLOR_RGB2BGR',\n",
       " 'COLOR_RGB2BGR555',\n",
       " 'COLOR_RGB2BGR565',\n",
       " 'COLOR_RGB2BGRA',\n",
       " 'COLOR_RGB2GRAY',\n",
       " 'COLOR_RGB2HLS',\n",
       " 'COLOR_RGB2HLS_FULL',\n",
       " 'COLOR_RGB2HSV',\n",
       " 'COLOR_RGB2HSV_FULL',\n",
       " 'COLOR_RGB2LAB',\n",
       " 'COLOR_RGB2LUV',\n",
       " 'COLOR_RGB2Lab',\n",
       " 'COLOR_RGB2Luv',\n",
       " 'COLOR_RGB2RGBA',\n",
       " 'COLOR_RGB2XYZ',\n",
       " 'COLOR_RGB2YCR_CB',\n",
       " 'COLOR_RGB2YCrCb',\n",
       " 'COLOR_RGB2YUV',\n",
       " 'COLOR_RGB2YUV_I420',\n",
       " 'COLOR_RGB2YUV_IYUV',\n",
       " 'COLOR_RGB2YUV_YV12',\n",
       " 'COLOR_RGBA2BGR',\n",
       " 'COLOR_RGBA2BGR555',\n",
       " 'COLOR_RGBA2BGR565',\n",
       " 'COLOR_RGBA2BGRA',\n",
       " 'COLOR_RGBA2GRAY',\n",
       " 'COLOR_RGBA2M_RGBA',\n",
       " 'COLOR_RGBA2RGB',\n",
       " 'COLOR_RGBA2YUV_I420',\n",
       " 'COLOR_RGBA2YUV_IYUV',\n",
       " 'COLOR_RGBA2YUV_YV12',\n",
       " 'COLOR_RGBA2mRGBA',\n",
       " 'COLOR_XYZ2BGR',\n",
       " 'COLOR_XYZ2RGB',\n",
       " 'COLOR_YCR_CB2BGR',\n",
       " 'COLOR_YCR_CB2RGB',\n",
       " 'COLOR_YCrCb2BGR',\n",
       " 'COLOR_YCrCb2RGB',\n",
       " 'COLOR_YUV2BGR',\n",
       " 'COLOR_YUV2BGRA_I420',\n",
       " 'COLOR_YUV2BGRA_IYUV',\n",
       " 'COLOR_YUV2BGRA_NV12',\n",
       " 'COLOR_YUV2BGRA_NV21',\n",
       " 'COLOR_YUV2BGRA_UYNV',\n",
       " 'COLOR_YUV2BGRA_UYVY',\n",
       " 'COLOR_YUV2BGRA_Y422',\n",
       " 'COLOR_YUV2BGRA_YUNV',\n",
       " 'COLOR_YUV2BGRA_YUY2',\n",
       " 'COLOR_YUV2BGRA_YUYV',\n",
       " 'COLOR_YUV2BGRA_YV12',\n",
       " 'COLOR_YUV2BGRA_YVYU',\n",
       " 'COLOR_YUV2BGR_I420',\n",
       " 'COLOR_YUV2BGR_IYUV',\n",
       " 'COLOR_YUV2BGR_NV12',\n",
       " 'COLOR_YUV2BGR_NV21',\n",
       " 'COLOR_YUV2BGR_UYNV',\n",
       " 'COLOR_YUV2BGR_UYVY',\n",
       " 'COLOR_YUV2BGR_Y422',\n",
       " 'COLOR_YUV2BGR_YUNV',\n",
       " 'COLOR_YUV2BGR_YUY2',\n",
       " 'COLOR_YUV2BGR_YUYV',\n",
       " 'COLOR_YUV2BGR_YV12',\n",
       " 'COLOR_YUV2BGR_YVYU',\n",
       " 'COLOR_YUV2GRAY_420',\n",
       " 'COLOR_YUV2GRAY_I420',\n",
       " 'COLOR_YUV2GRAY_IYUV',\n",
       " 'COLOR_YUV2GRAY_NV12',\n",
       " 'COLOR_YUV2GRAY_NV21',\n",
       " 'COLOR_YUV2GRAY_UYNV',\n",
       " 'COLOR_YUV2GRAY_UYVY',\n",
       " 'COLOR_YUV2GRAY_Y422',\n",
       " 'COLOR_YUV2GRAY_YUNV',\n",
       " 'COLOR_YUV2GRAY_YUY2',\n",
       " 'COLOR_YUV2GRAY_YUYV',\n",
       " 'COLOR_YUV2GRAY_YV12',\n",
       " 'COLOR_YUV2GRAY_YVYU',\n",
       " 'COLOR_YUV2RGB',\n",
       " 'COLOR_YUV2RGBA_I420',\n",
       " 'COLOR_YUV2RGBA_IYUV',\n",
       " 'COLOR_YUV2RGBA_NV12',\n",
       " 'COLOR_YUV2RGBA_NV21',\n",
       " 'COLOR_YUV2RGBA_UYNV',\n",
       " 'COLOR_YUV2RGBA_UYVY',\n",
       " 'COLOR_YUV2RGBA_Y422',\n",
       " 'COLOR_YUV2RGBA_YUNV',\n",
       " 'COLOR_YUV2RGBA_YUY2',\n",
       " 'COLOR_YUV2RGBA_YUYV',\n",
       " 'COLOR_YUV2RGBA_YV12',\n",
       " 'COLOR_YUV2RGBA_YVYU',\n",
       " 'COLOR_YUV2RGB_I420',\n",
       " 'COLOR_YUV2RGB_IYUV',\n",
       " 'COLOR_YUV2RGB_NV12',\n",
       " 'COLOR_YUV2RGB_NV21',\n",
       " 'COLOR_YUV2RGB_UYNV',\n",
       " 'COLOR_YUV2RGB_UYVY',\n",
       " 'COLOR_YUV2RGB_Y422',\n",
       " 'COLOR_YUV2RGB_YUNV',\n",
       " 'COLOR_YUV2RGB_YUY2',\n",
       " 'COLOR_YUV2RGB_YUYV',\n",
       " 'COLOR_YUV2RGB_YV12',\n",
       " 'COLOR_YUV2RGB_YVYU',\n",
       " 'COLOR_YUV420P2BGR',\n",
       " 'COLOR_YUV420P2BGRA',\n",
       " 'COLOR_YUV420P2GRAY',\n",
       " 'COLOR_YUV420P2RGB',\n",
       " 'COLOR_YUV420P2RGBA',\n",
       " 'COLOR_YUV420SP2BGR',\n",
       " 'COLOR_YUV420SP2BGRA',\n",
       " 'COLOR_YUV420SP2GRAY',\n",
       " 'COLOR_YUV420SP2RGB',\n",
       " 'COLOR_YUV420SP2RGBA',\n",
       " 'COLOR_YUV420p2BGR',\n",
       " 'COLOR_YUV420p2BGRA',\n",
       " 'COLOR_YUV420p2GRAY',\n",
       " 'COLOR_YUV420p2RGB',\n",
       " 'COLOR_YUV420p2RGBA',\n",
       " 'COLOR_YUV420sp2BGR',\n",
       " 'COLOR_YUV420sp2BGRA',\n",
       " 'COLOR_YUV420sp2GRAY',\n",
       " 'COLOR_YUV420sp2RGB',\n",
       " 'COLOR_YUV420sp2RGBA',\n",
       " 'COLOR_mRGBA2RGBA']"
      ]
     },
     "execution_count": 6,
     "metadata": {},
     "output_type": "execute_result"
    }
   ],
   "source": [
    "flags = [i for i in dir(cv2) if i.startswith('COLOR_')]\n",
    "list(flags)"
   ]
  },
  {
   "cell_type": "markdown",
   "metadata": {},
   "source": [
    "### Define the color threshold"
   ]
  },
  {
   "cell_type": "code",
   "execution_count": null,
   "metadata": {},
   "outputs": [],
   "source": [
    "## TODO: Define the color selection boundaries in RGB values\n",
    "# play around with these values until you isolate the blue background\n",
    "lower_blue = np.array([0,0,200]) \n",
    "upper_blue = np.array([250,250,255])\n"
   ]
  },
  {
   "cell_type": "code",
   "execution_count": null,
   "metadata": {},
   "outputs": [],
   "source": [
    "image_copy_B = image_copy[:, :, 2]\n",
    "\n",
    "# alternative way to find histogram of an image \n",
    "plt.hist(image_copy_B.ravel(),256,[0,256]) \n",
    "plt.show() "
   ]
  },
  {
   "cell_type": "markdown",
   "metadata": {},
   "source": [
    "### Create a mask"
   ]
  },
  {
   "cell_type": "code",
   "execution_count": null,
   "metadata": {},
   "outputs": [],
   "source": [
    "# Define the masked area\n",
    "mask = cv2.inRange(image_copy, lower_blue, upper_blue)\n",
    "\n",
    "# Vizualize the mask\n",
    "plt.imshow(mask, cmap='gray')"
   ]
  },
  {
   "cell_type": "code",
   "execution_count": null,
   "metadata": {},
   "outputs": [],
   "source": [
    "# Mask the image to let the pizza show through\n",
    "masked_image = np.copy(image_copy)\n",
    "\n",
    "masked_image[mask != 0] = [0, 0, 0]\n",
    "\n",
    "# Display it!\n",
    "plt.imshow(masked_image)\n"
   ]
  },
  {
   "cell_type": "markdown",
   "metadata": {},
   "source": [
    "### Mask and add a background image"
   ]
  },
  {
   "cell_type": "code",
   "execution_count": null,
   "metadata": {},
   "outputs": [],
   "source": [
    "# Load in a background image, and convert it to RGB \n",
    "background_image = cv2.imread('images/space_background.jpg')\n",
    "background_image = cv2.cvtColor(background_image, cv2.COLOR_BGR2RGB)\n",
    "\n",
    "# Crop it to the right size (514x816)\n",
    "crop_background = background_image[0:514, 0:816]\n",
    "\n",
    "# Mask the cropped background so that the pizza area is blocked\n",
    "crop_background[mask == 0] = [0, 0, 0]\n",
    "\n",
    "# Display the background\n",
    "plt.imshow(crop_background)"
   ]
  },
  {
   "cell_type": "markdown",
   "metadata": {},
   "source": [
    "### Create a complete image"
   ]
  },
  {
   "cell_type": "code",
   "execution_count": null,
   "metadata": {},
   "outputs": [],
   "source": [
    "# Add the two images together to create a complete image!\n",
    "complete_image = masked_image + crop_background\n",
    "\n",
    "# Display the result\n",
    "plt.imshow(complete_image)"
   ]
  },
  {
   "cell_type": "code",
   "execution_count": null,
   "metadata": {},
   "outputs": [],
   "source": []
  }
 ],
 "metadata": {
  "anaconda-cloud": {},
  "hide_input": false,
  "kernelspec": {
   "display_name": "Python 3",
   "language": "python",
   "name": "python3"
  },
  "language_info": {
   "codemirror_mode": {
    "name": "ipython",
    "version": 3
   },
   "file_extension": ".py",
   "mimetype": "text/x-python",
   "name": "python",
   "nbconvert_exporter": "python",
   "pygments_lexer": "ipython3",
   "version": "3.7.1"
  }
 },
 "nbformat": 4,
 "nbformat_minor": 1
}
